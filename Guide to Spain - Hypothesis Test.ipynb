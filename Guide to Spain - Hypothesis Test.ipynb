{
 "cells": [
  {
   "cell_type": "markdown",
   "metadata": {},
   "source": [
    "# Data Exploration: *Alphabetical Guide to Spain*\n",
    "List accompanied Thomas Matthews' Spain tasting report in *Wine Spectator* (October 15, 2020)\n",
    "[Link](https://www.winespectator.com/articles/alphabetical-guide-to-spain-101520) to *Alphabetical Guide to Spain*\n",
    "\n",
    "## File Setup"
   ]
  },
  {
   "cell_type": "code",
   "execution_count": 67,
   "metadata": {},
   "outputs": [],
   "source": [
    "# import and initialize main python libraries\n",
    "import numpy as np\n",
    "import pandas as pd\n",
    "import shapefile as shp\n",
    "import matplotlib.pyplot as plt\n",
    "import seaborn as sns\n",
    "\n",
    "# import libraries for file navigation\n",
    "import os\n",
    "import shutil\n",
    "import glob\n",
    "from pandas_ods_reader import read_ods\n",
    "\n",
    "# import other packages\n",
    "import geopandas as gpd\n",
    "from scipy import stats"
   ]
  },
  {
   "cell_type": "code",
   "execution_count": 68,
   "metadata": {},
   "outputs": [],
   "source": [
    "# initialize vizualization set\n",
    "sns.set(style=\"whitegrid\", palette=\"colorblind\", color_codes=True)\n",
    "sns.mpl.rc(\"figure\", figsize=(10, 6))\n",
    "\n",
    "# Jupyter Notebook\n",
    "%matplotlib inline"
   ]
  },
  {
   "cell_type": "markdown",
   "metadata": {},
   "source": [
    "## Dataframe exploration\n",
    "Import dataframes containing wine data and geographic data on Spanish wine regions."
   ]
  },
  {
   "cell_type": "code",
   "execution_count": 69,
   "metadata": {},
   "outputs": [],
   "source": [
    "# initialize vizualization set\n",
    "sns.set(style=\"whitegrid\", palette=\"colorblind\", color_codes=True)\n",
    "sns.mpl.rc(\"figure\", figsize=(10, 6))\n",
    "\n",
    "# Jupyter Notebook\n",
    "%matplotlib inline\n",
    "\n",
    "# w = wine, g = geo\n",
    "# Note: save CSV files in UTF-8 format to preserve special Spanish-language characters\n",
    "\n",
    "df_w = pd.read_csv('./Alphabetical Guide to Spain - List Upload.csv')\n",
    "df_g = pd.read_csv('./Alphabetical Guide to Spain - Geo.csv')"
   ]
  },
  {
   "cell_type": "code",
   "execution_count": 70,
   "metadata": {},
   "outputs": [
    {
     "data": {
      "text/plain": [
       "(598, 59)"
      ]
     },
     "execution_count": 70,
     "metadata": {},
     "output_type": "execute_result"
    }
   ],
   "source": [
    "df_w.shape"
   ]
  },
  {
   "cell_type": "code",
   "execution_count": 71,
   "metadata": {},
   "outputs": [
    {
     "data": {
      "text/plain": [
       "(40, 5)"
      ]
     },
     "execution_count": 71,
     "metadata": {},
     "output_type": "execute_result"
    }
   ],
   "source": [
    "df_g.shape"
   ]
  },
  {
   "cell_type": "code",
   "execution_count": 72,
   "metadata": {
    "scrolled": false
   },
   "outputs": [
    {
     "data": {
      "text/html": [
       "<div>\n",
       "<style scoped>\n",
       "    .dataframe tbody tr th:only-of-type {\n",
       "        vertical-align: middle;\n",
       "    }\n",
       "\n",
       "    .dataframe tbody tr th {\n",
       "        vertical-align: top;\n",
       "    }\n",
       "\n",
       "    .dataframe thead th {\n",
       "        text-align: right;\n",
       "    }\n",
       "</style>\n",
       "<table border=\"1\" class=\"dataframe\">\n",
       "  <thead>\n",
       "    <tr style=\"text-align: right;\">\n",
       "      <th></th>\n",
       "      <th>Winery</th>\n",
       "      <th>Wine</th>\n",
       "      <th>Score</th>\n",
       "      <th>Price</th>\n",
       "      <th>Wine_Style</th>\n",
       "      <th>Denominación_de_Origen_DO</th>\n",
       "      <th>Geographical_Indication</th>\n",
       "      <th>Year</th>\n",
       "      <th>Rioja_Style</th>\n",
       "      <th>cat_Airén</th>\n",
       "      <th>...</th>\n",
       "      <th>cat_Tempranillo</th>\n",
       "      <th>cat_Tintilla_de_Rota</th>\n",
       "      <th>cat_Tinto_Velasco</th>\n",
       "      <th>cat_Treixadura</th>\n",
       "      <th>cat_Verdejo</th>\n",
       "      <th>cat_Vermell</th>\n",
       "      <th>cat_Vijiriega</th>\n",
       "      <th>cat_Viognier</th>\n",
       "      <th>cat_Viura|Macabeo</th>\n",
       "      <th>cat_Xarel-lo</th>\n",
       "    </tr>\n",
       "  </thead>\n",
       "  <tbody>\n",
       "    <tr>\n",
       "      <th>188</th>\n",
       "      <td>ISAAC FERNANDEZ SELECCIÓN</td>\n",
       "      <td>Mencía Ribeira Sacra Adrás 2016</td>\n",
       "      <td>89</td>\n",
       "      <td>22.0</td>\n",
       "      <td>Red</td>\n",
       "      <td>Ribeira Sacra</td>\n",
       "      <td>Galicia</td>\n",
       "      <td>2016</td>\n",
       "      <td>NaN</td>\n",
       "      <td>NaN</td>\n",
       "      <td>...</td>\n",
       "      <td>NaN</td>\n",
       "      <td>NaN</td>\n",
       "      <td>NaN</td>\n",
       "      <td>NaN</td>\n",
       "      <td>NaN</td>\n",
       "      <td>NaN</td>\n",
       "      <td>NaN</td>\n",
       "      <td>NaN</td>\n",
       "      <td>NaN</td>\n",
       "      <td>NaN</td>\n",
       "    </tr>\n",
       "    <tr>\n",
       "      <th>11</th>\n",
       "      <td>ALVEAR</td>\n",
       "      <td>Fino Montilla-Moriles En Rama 2012</td>\n",
       "      <td>90</td>\n",
       "      <td>22.0</td>\n",
       "      <td>Sherry</td>\n",
       "      <td>Montilla-Moriles</td>\n",
       "      <td>Andalucia</td>\n",
       "      <td>2012</td>\n",
       "      <td>NaN</td>\n",
       "      <td>NaN</td>\n",
       "      <td>...</td>\n",
       "      <td>NaN</td>\n",
       "      <td>NaN</td>\n",
       "      <td>NaN</td>\n",
       "      <td>NaN</td>\n",
       "      <td>NaN</td>\n",
       "      <td>NaN</td>\n",
       "      <td>NaN</td>\n",
       "      <td>NaN</td>\n",
       "      <td>NaN</td>\n",
       "      <td>NaN</td>\n",
       "    </tr>\n",
       "    <tr>\n",
       "      <th>27</th>\n",
       "      <td>BODEGAS ATECA</td>\n",
       "      <td>Garnacha Calatayud Atteca Old Vines 2017</td>\n",
       "      <td>89</td>\n",
       "      <td>16.0</td>\n",
       "      <td>Red</td>\n",
       "      <td>Calatayud</td>\n",
       "      <td>Aragon</td>\n",
       "      <td>2017</td>\n",
       "      <td>NaN</td>\n",
       "      <td>NaN</td>\n",
       "      <td>...</td>\n",
       "      <td>NaN</td>\n",
       "      <td>NaN</td>\n",
       "      <td>NaN</td>\n",
       "      <td>NaN</td>\n",
       "      <td>NaN</td>\n",
       "      <td>NaN</td>\n",
       "      <td>NaN</td>\n",
       "      <td>NaN</td>\n",
       "      <td>NaN</td>\n",
       "      <td>NaN</td>\n",
       "    </tr>\n",
       "    <tr>\n",
       "      <th>551</th>\n",
       "      <td>BODEGAS VALDUERO</td>\n",
       "      <td>Viño de la Tierra de Castilla y León Finca Aza...</td>\n",
       "      <td>88</td>\n",
       "      <td>25.0</td>\n",
       "      <td>Red</td>\n",
       "      <td>Viño de la Tierra</td>\n",
       "      <td>Castilla y León</td>\n",
       "      <td>2017</td>\n",
       "      <td>NaN</td>\n",
       "      <td>NaN</td>\n",
       "      <td>...</td>\n",
       "      <td>Tempranillo</td>\n",
       "      <td>NaN</td>\n",
       "      <td>NaN</td>\n",
       "      <td>NaN</td>\n",
       "      <td>NaN</td>\n",
       "      <td>NaN</td>\n",
       "      <td>NaN</td>\n",
       "      <td>NaN</td>\n",
       "      <td>NaN</td>\n",
       "      <td>NaN</td>\n",
       "    </tr>\n",
       "    <tr>\n",
       "      <th>196</th>\n",
       "      <td>BODEGAS FRANCO-ESPAÑOLAS</td>\n",
       "      <td>Rioja Bordón Crianza 2016</td>\n",
       "      <td>87</td>\n",
       "      <td>15.0</td>\n",
       "      <td>Red</td>\n",
       "      <td>Rioja</td>\n",
       "      <td>Multi-Regional</td>\n",
       "      <td>2016</td>\n",
       "      <td>Crianza</td>\n",
       "      <td>NaN</td>\n",
       "      <td>...</td>\n",
       "      <td>Tempranillo</td>\n",
       "      <td>NaN</td>\n",
       "      <td>NaN</td>\n",
       "      <td>NaN</td>\n",
       "      <td>NaN</td>\n",
       "      <td>NaN</td>\n",
       "      <td>NaN</td>\n",
       "      <td>NaN</td>\n",
       "      <td>NaN</td>\n",
       "      <td>NaN</td>\n",
       "    </tr>\n",
       "    <tr>\n",
       "      <th>113</th>\n",
       "      <td>BODEGAS CASA ROJO</td>\n",
       "      <td>Verdejo Rueda El Gordo del Circo 2018</td>\n",
       "      <td>89</td>\n",
       "      <td>20.0</td>\n",
       "      <td>White</td>\n",
       "      <td>Rueda</td>\n",
       "      <td>Castilla y León</td>\n",
       "      <td>2018</td>\n",
       "      <td>NaN</td>\n",
       "      <td>NaN</td>\n",
       "      <td>...</td>\n",
       "      <td>NaN</td>\n",
       "      <td>NaN</td>\n",
       "      <td>NaN</td>\n",
       "      <td>NaN</td>\n",
       "      <td>Verdejo</td>\n",
       "      <td>NaN</td>\n",
       "      <td>NaN</td>\n",
       "      <td>NaN</td>\n",
       "      <td>NaN</td>\n",
       "      <td>NaN</td>\n",
       "    </tr>\n",
       "    <tr>\n",
       "      <th>363</th>\n",
       "      <td>VIÑEDOS DE NIEVA</td>\n",
       "      <td>Verdejo Rueda 2018</td>\n",
       "      <td>87</td>\n",
       "      <td>20.0</td>\n",
       "      <td>White</td>\n",
       "      <td>Rueda</td>\n",
       "      <td>Castilla y León</td>\n",
       "      <td>2018</td>\n",
       "      <td>NaN</td>\n",
       "      <td>NaN</td>\n",
       "      <td>...</td>\n",
       "      <td>NaN</td>\n",
       "      <td>NaN</td>\n",
       "      <td>NaN</td>\n",
       "      <td>NaN</td>\n",
       "      <td>Verdejo</td>\n",
       "      <td>NaN</td>\n",
       "      <td>NaN</td>\n",
       "      <td>NaN</td>\n",
       "      <td>NaN</td>\n",
       "      <td>NaN</td>\n",
       "    </tr>\n",
       "    <tr>\n",
       "      <th>582</th>\n",
       "      <td>VIÑAS DEL VERO</td>\n",
       "      <td>Garnacha Somontano Secastilla 2014</td>\n",
       "      <td>87</td>\n",
       "      <td>40.0</td>\n",
       "      <td>Red</td>\n",
       "      <td>Somontano</td>\n",
       "      <td>Aragon</td>\n",
       "      <td>2014</td>\n",
       "      <td>NaN</td>\n",
       "      <td>NaN</td>\n",
       "      <td>...</td>\n",
       "      <td>NaN</td>\n",
       "      <td>NaN</td>\n",
       "      <td>NaN</td>\n",
       "      <td>NaN</td>\n",
       "      <td>NaN</td>\n",
       "      <td>NaN</td>\n",
       "      <td>NaN</td>\n",
       "      <td>NaN</td>\n",
       "      <td>NaN</td>\n",
       "      <td>NaN</td>\n",
       "    </tr>\n",
       "    <tr>\n",
       "      <th>248</th>\n",
       "      <td>BODEGAS LAN</td>\n",
       "      <td>Rioja Xtrème Crianza 2015</td>\n",
       "      <td>91</td>\n",
       "      <td>20.0</td>\n",
       "      <td>Red</td>\n",
       "      <td>Rioja</td>\n",
       "      <td>Multi-Regional</td>\n",
       "      <td>2015</td>\n",
       "      <td>Crianza</td>\n",
       "      <td>NaN</td>\n",
       "      <td>...</td>\n",
       "      <td>Tempranillo</td>\n",
       "      <td>NaN</td>\n",
       "      <td>NaN</td>\n",
       "      <td>NaN</td>\n",
       "      <td>NaN</td>\n",
       "      <td>NaN</td>\n",
       "      <td>NaN</td>\n",
       "      <td>NaN</td>\n",
       "      <td>NaN</td>\n",
       "      <td>NaN</td>\n",
       "    </tr>\n",
       "    <tr>\n",
       "      <th>428</th>\n",
       "      <td>DOMINIO DE PINGUS</td>\n",
       "      <td>Ribera del Duero Flor de Pingus 2017</td>\n",
       "      <td>89</td>\n",
       "      <td>100.0</td>\n",
       "      <td>Red</td>\n",
       "      <td>Ribera del Duero</td>\n",
       "      <td>Castilla y León</td>\n",
       "      <td>2017</td>\n",
       "      <td>NaN</td>\n",
       "      <td>NaN</td>\n",
       "      <td>...</td>\n",
       "      <td>Tempranillo</td>\n",
       "      <td>NaN</td>\n",
       "      <td>NaN</td>\n",
       "      <td>NaN</td>\n",
       "      <td>NaN</td>\n",
       "      <td>NaN</td>\n",
       "      <td>NaN</td>\n",
       "      <td>NaN</td>\n",
       "      <td>NaN</td>\n",
       "      <td>NaN</td>\n",
       "    </tr>\n",
       "  </tbody>\n",
       "</table>\n",
       "<p>10 rows × 59 columns</p>\n",
       "</div>"
      ],
      "text/plain": [
       "                        Winery  \\\n",
       "188  ISAAC FERNANDEZ SELECCIÓN   \n",
       "11                      ALVEAR   \n",
       "27               BODEGAS ATECA   \n",
       "551           BODEGAS VALDUERO   \n",
       "196   BODEGAS FRANCO-ESPAÑOLAS   \n",
       "113          BODEGAS CASA ROJO   \n",
       "363           VIÑEDOS DE NIEVA   \n",
       "582             VIÑAS DEL VERO   \n",
       "248                BODEGAS LAN   \n",
       "428          DOMINIO DE PINGUS   \n",
       "\n",
       "                                                  Wine  Score  Price  \\\n",
       "188                    Mencía Ribeira Sacra Adrás 2016     89   22.0   \n",
       "11                  Fino Montilla-Moriles En Rama 2012     90   22.0   \n",
       "27            Garnacha Calatayud Atteca Old Vines 2017     89   16.0   \n",
       "551  Viño de la Tierra de Castilla y León Finca Aza...     88   25.0   \n",
       "196                          Rioja Bordón Crianza 2016     87   15.0   \n",
       "113              Verdejo Rueda El Gordo del Circo 2018     89   20.0   \n",
       "363                                 Verdejo Rueda 2018     87   20.0   \n",
       "582                 Garnacha Somontano Secastilla 2014     87   40.0   \n",
       "248                          Rioja Xtrème Crianza 2015     91   20.0   \n",
       "428               Ribera del Duero Flor de Pingus 2017     89  100.0   \n",
       "\n",
       "    Wine_Style Denominación_de_Origen_DO Geographical_Indication  Year  \\\n",
       "188        Red             Ribeira Sacra                 Galicia  2016   \n",
       "11      Sherry          Montilla-Moriles               Andalucia  2012   \n",
       "27         Red                 Calatayud                  Aragon  2017   \n",
       "551        Red        Viño de la Tierra         Castilla y León   2017   \n",
       "196        Red                     Rioja          Multi-Regional  2016   \n",
       "113      White                     Rueda        Castilla y León   2018   \n",
       "363      White                     Rueda        Castilla y León   2018   \n",
       "582        Red                 Somontano                  Aragon  2014   \n",
       "248        Red                     Rioja          Multi-Regional  2015   \n",
       "428        Red          Ribera del Duero        Castilla y León   2017   \n",
       "\n",
       "    Rioja_Style cat_Airén  ... cat_Tempranillo cat_Tintilla_de_Rota  \\\n",
       "188         NaN       NaN  ...             NaN                  NaN   \n",
       "11          NaN       NaN  ...             NaN                  NaN   \n",
       "27          NaN       NaN  ...             NaN                  NaN   \n",
       "551         NaN       NaN  ...     Tempranillo                  NaN   \n",
       "196     Crianza       NaN  ...     Tempranillo                  NaN   \n",
       "113         NaN       NaN  ...             NaN                  NaN   \n",
       "363         NaN       NaN  ...             NaN                  NaN   \n",
       "582         NaN       NaN  ...             NaN                  NaN   \n",
       "248     Crianza       NaN  ...     Tempranillo                  NaN   \n",
       "428         NaN       NaN  ...     Tempranillo                  NaN   \n",
       "\n",
       "    cat_Tinto_Velasco cat_Treixadura cat_Verdejo cat_Vermell cat_Vijiriega  \\\n",
       "188               NaN            NaN         NaN         NaN           NaN   \n",
       "11                NaN            NaN         NaN         NaN           NaN   \n",
       "27                NaN            NaN         NaN         NaN           NaN   \n",
       "551               NaN            NaN         NaN         NaN           NaN   \n",
       "196               NaN            NaN         NaN         NaN           NaN   \n",
       "113               NaN            NaN     Verdejo         NaN           NaN   \n",
       "363               NaN            NaN     Verdejo         NaN           NaN   \n",
       "582               NaN            NaN         NaN         NaN           NaN   \n",
       "248               NaN            NaN         NaN         NaN           NaN   \n",
       "428               NaN            NaN         NaN         NaN           NaN   \n",
       "\n",
       "    cat_Viognier cat_Viura|Macabeo cat_Xarel-lo  \n",
       "188          NaN               NaN          NaN  \n",
       "11           NaN               NaN          NaN  \n",
       "27           NaN               NaN          NaN  \n",
       "551          NaN               NaN          NaN  \n",
       "196          NaN               NaN          NaN  \n",
       "113          NaN               NaN          NaN  \n",
       "363          NaN               NaN          NaN  \n",
       "582          NaN               NaN          NaN  \n",
       "248          NaN               NaN          NaN  \n",
       "428          NaN               NaN          NaN  \n",
       "\n",
       "[10 rows x 59 columns]"
      ]
     },
     "execution_count": 72,
     "metadata": {},
     "output_type": "execute_result"
    }
   ],
   "source": [
    "df_w.sample(10)"
   ]
  },
  {
   "cell_type": "code",
   "execution_count": 73,
   "metadata": {},
   "outputs": [
    {
     "data": {
      "text/html": [
       "<div>\n",
       "<style scoped>\n",
       "    .dataframe tbody tr th:only-of-type {\n",
       "        vertical-align: middle;\n",
       "    }\n",
       "\n",
       "    .dataframe tbody tr th {\n",
       "        vertical-align: top;\n",
       "    }\n",
       "\n",
       "    .dataframe thead th {\n",
       "        text-align: right;\n",
       "    }\n",
       "</style>\n",
       "<table border=\"1\" class=\"dataframe\">\n",
       "  <thead>\n",
       "    <tr style=\"text-align: right;\">\n",
       "      <th></th>\n",
       "      <th>Location</th>\n",
       "      <th>Denominacion_or_GeoIndicator</th>\n",
       "      <th>Latitude</th>\n",
       "      <th>Longitude</th>\n",
       "      <th>Unnamed: 4</th>\n",
       "    </tr>\n",
       "  </thead>\n",
       "  <tbody>\n",
       "    <tr>\n",
       "      <th>18</th>\n",
       "      <td>Navarra</td>\n",
       "      <td>Denominación_de_Origen_DO</td>\n",
       "      <td>42.481111</td>\n",
       "      <td>1.650556</td>\n",
       "      <td>https://geohack.toolforge.org/geohack.php?page...</td>\n",
       "    </tr>\n",
       "    <tr>\n",
       "      <th>7</th>\n",
       "      <td>Cava</td>\n",
       "      <td>Denominación_de_Origen_DO</td>\n",
       "      <td>41.816667</td>\n",
       "      <td>1.466667</td>\n",
       "      <td>https://geohack.toolforge.org/geohack.php?page...</td>\n",
       "    </tr>\n",
       "    <tr>\n",
       "      <th>15</th>\n",
       "      <td>Méntrida</td>\n",
       "      <td>Denominación_de_Origen_DO</td>\n",
       "      <td>40.050000</td>\n",
       "      <td>-4.200000</td>\n",
       "      <td>https://geohack.toolforge.org/geohack.php?page...</td>\n",
       "    </tr>\n",
       "    <tr>\n",
       "      <th>19</th>\n",
       "      <td>Penedès</td>\n",
       "      <td>Denominación_de_Origen_DO</td>\n",
       "      <td>41.293283</td>\n",
       "      <td>1.749572</td>\n",
       "      <td>https://geohack.toolforge.org/geohack.php?page...</td>\n",
       "    </tr>\n",
       "    <tr>\n",
       "      <th>3</th>\n",
       "      <td>Bizkaiko Txakolina</td>\n",
       "      <td>Denominación_de_Origen_DO</td>\n",
       "      <td>43.325556</td>\n",
       "      <td>-2.988889</td>\n",
       "      <td>https://geohack.toolforge.org/geohack.php?page...</td>\n",
       "    </tr>\n",
       "    <tr>\n",
       "      <th>24</th>\n",
       "      <td>Ribera del Duero</td>\n",
       "      <td>Denominación_de_Origen_DO</td>\n",
       "      <td>41.683333</td>\n",
       "      <td>-3.683333</td>\n",
       "      <td>https://geohack.toolforge.org/geohack.php?page...</td>\n",
       "    </tr>\n",
       "    <tr>\n",
       "      <th>35</th>\n",
       "      <td>Cadiz</td>\n",
       "      <td>Geographical_Indication</td>\n",
       "      <td>36.500000</td>\n",
       "      <td>-5.750000</td>\n",
       "      <td>https://geohack.toolforge.org/geohack.php?page...</td>\n",
       "    </tr>\n",
       "    <tr>\n",
       "      <th>36</th>\n",
       "      <td>Castilla</td>\n",
       "      <td>Geographical_Indication</td>\n",
       "      <td>39.866667</td>\n",
       "      <td>-4.016667</td>\n",
       "      <td>https://geohack.toolforge.org/geohack.php?page...</td>\n",
       "    </tr>\n",
       "    <tr>\n",
       "      <th>25</th>\n",
       "      <td>Rioja</td>\n",
       "      <td>Denominación_de_Origen_DO</td>\n",
       "      <td>42.461750</td>\n",
       "      <td>-2.445694</td>\n",
       "      <td>https://geohack.toolforge.org/geohack.php?page...</td>\n",
       "    </tr>\n",
       "    <tr>\n",
       "      <th>30</th>\n",
       "      <td>Utiel-Requena</td>\n",
       "      <td>Denominación_de_Origen_DO</td>\n",
       "      <td>39.506158</td>\n",
       "      <td>-1.181028</td>\n",
       "      <td>https://geohack.toolforge.org/geohack.php?page...</td>\n",
       "    </tr>\n",
       "  </tbody>\n",
       "</table>\n",
       "</div>"
      ],
      "text/plain": [
       "              Location Denominacion_or_GeoIndicator   Latitude  Longitude  \\\n",
       "18             Navarra    Denominación_de_Origen_DO  42.481111   1.650556   \n",
       "7                 Cava    Denominación_de_Origen_DO  41.816667   1.466667   \n",
       "15            Méntrida    Denominación_de_Origen_DO  40.050000  -4.200000   \n",
       "19             Penedès    Denominación_de_Origen_DO  41.293283   1.749572   \n",
       "3   Bizkaiko Txakolina    Denominación_de_Origen_DO  43.325556  -2.988889   \n",
       "24    Ribera del Duero    Denominación_de_Origen_DO  41.683333  -3.683333   \n",
       "35               Cadiz      Geographical_Indication  36.500000  -5.750000   \n",
       "36            Castilla      Geographical_Indication  39.866667  -4.016667   \n",
       "25               Rioja    Denominación_de_Origen_DO  42.461750  -2.445694   \n",
       "30       Utiel-Requena    Denominación_de_Origen_DO  39.506158  -1.181028   \n",
       "\n",
       "                                           Unnamed: 4  \n",
       "18  https://geohack.toolforge.org/geohack.php?page...  \n",
       "7   https://geohack.toolforge.org/geohack.php?page...  \n",
       "15  https://geohack.toolforge.org/geohack.php?page...  \n",
       "19  https://geohack.toolforge.org/geohack.php?page...  \n",
       "3   https://geohack.toolforge.org/geohack.php?page...  \n",
       "24  https://geohack.toolforge.org/geohack.php?page...  \n",
       "35  https://geohack.toolforge.org/geohack.php?page...  \n",
       "36  https://geohack.toolforge.org/geohack.php?page...  \n",
       "25  https://geohack.toolforge.org/geohack.php?page...  \n",
       "30  https://geohack.toolforge.org/geohack.php?page...  "
      ]
     },
     "execution_count": 73,
     "metadata": {},
     "output_type": "execute_result"
    }
   ],
   "source": [
    "df_g.sample(10)"
   ]
  },
  {
   "cell_type": "code",
   "execution_count": 74,
   "metadata": {},
   "outputs": [
    {
     "data": {
      "text/plain": [
       "(593, 59)"
      ]
     },
     "execution_count": 74,
     "metadata": {},
     "output_type": "execute_result"
    }
   ],
   "source": [
    "df_w_notnull = df_w[\n",
    "    (df_w.Score > 0) & \n",
    "    (df_w.Price > 0) \n",
    "]\n",
    "\n",
    "df_w_notnull.shape"
   ]
  },
  {
   "cell_type": "code",
   "execution_count": 75,
   "metadata": {},
   "outputs": [
    {
     "data": {
      "image/png": "[encoded data removed]",
      "text/plain": [
       "<Figure size 432x288 with 1 Axes>"
      ]
     },
     "metadata": {
      "needs_background": "light"
     },
     "output_type": "display_data"
    }
   ],
   "source": [
    "# Plot histograms of Scores\n",
    "\n",
    "s_mean = df_w_notnull.Score.mean()\n",
    "s_stdev = df_w_notnull.Score.std()\n",
    "ms = 'mean = ' + str(round(s_mean, 2)) + ', stdev = ' + str(round(s_stdev, 2))\n",
    "\n",
    "n, bins, patches = plt.hist(df_w_notnull.Score, 50)\n",
    "plt.xlabel('Score')\n",
    "plt.ylabel('Counts')\n",
    "plt.suptitle('Histogram of Wine Spectator Scores')\n",
    "plt.text(76, 80, ms)\n",
    "plt.show()"
   ]
  },
  {
   "cell_type": "code",
   "execution_count": 76,
   "metadata": {},
   "outputs": [
    {
     "data": {
      "image/png": "[encoded data removed]",
      "text/plain": [
       "<Figure size 432x288 with 1 Axes>"
      ]
     },
     "metadata": {
      "needs_background": "light"
     },
     "output_type": "display_data"
    }
   ],
   "source": [
    "# Plot histograms of Prices\n",
    "\n",
    "s_mean = df_w_notnull.Price.mean()\n",
    "s_stdev = df_w_notnull.Price.std()\n",
    "ms = 'mean = ' + str(round(s_mean, 2)) + ', stdev = ' + str(round(s_stdev, 2))\n",
    "\n",
    "n, bins, patches = plt.hist(df_w_notnull.Price, 50)\n",
    "plt.xlabel('Price')\n",
    "plt.ylabel('Counts')\n",
    "plt.suptitle('Histogram of Wine Prices')\n",
    "plt.text(300, 250, ms)\n",
    "plt.show()"
   ]
  },
  {
   "cell_type": "code",
   "execution_count": 77,
   "metadata": {},
   "outputs": [
    {
     "data": {
      "text/plain": [
       "Text(0.5, 0.98, 'Box Plot of Wine Spectator Scores')"
      ]
     },
     "execution_count": 77,
     "metadata": {},
     "output_type": "execute_result"
    },
    {
     "data": {
      "image/png": "[encoded data removed]",
      "text/plain": [
       "<Figure size 720x576 with 1 Axes>"
      ]
     },
     "metadata": {
      "needs_background": "light"
     },
     "output_type": "display_data"
    },
    {
     "data": {
      "image/png": "[encoded data removed]",
      "text/plain": [
       "<Figure size 360x360 with 1 Axes>"
      ]
     },
     "metadata": {
      "needs_background": "light"
     },
     "output_type": "display_data"
    }
   ],
   "source": [
    "# Plot boxplot of Scores\n",
    "dim = (10, 8)\n",
    "fig, ax = plt.subplots(figsize = dim)\n",
    "\n",
    "sns.catplot(x = 'Score', data = df_w_notnull, kind = 'box', showmeans = True, ax=ax)\n",
    "plt.suptitle('Box Plot of Wine Spectator Scores')"
   ]
  },
  {
   "cell_type": "code",
   "execution_count": 78,
   "metadata": {},
   "outputs": [
    {
     "data": {
      "text/plain": [
       "Text(0.5, 0.98, 'Box Plot of Wine Prices')"
      ]
     },
     "execution_count": 78,
     "metadata": {},
     "output_type": "execute_result"
    },
    {
     "data": {
      "image/png": "[encoded data removed]",
      "text/plain": [
       "<Figure size 720x576 with 1 Axes>"
      ]
     },
     "metadata": {
      "needs_background": "light"
     },
     "output_type": "display_data"
    },
    {
     "data": {
      "image/png": "[encoded data removed]",
      "text/plain": [
       "<Figure size 360x360 with 1 Axes>"
      ]
     },
     "metadata": {
      "needs_background": "light"
     },
     "output_type": "display_data"
    }
   ],
   "source": [
    "# Plot boxplot of Prices\n",
    "dim = (10, 8)\n",
    "fig, ax = plt.subplots(figsize = dim)\n",
    "\n",
    "sns.catplot(x = 'Price', data = df_w_notnull, kind = 'box', showmeans = True, ax=ax)\n",
    "plt.suptitle('Box Plot of Wine Prices')"
   ]
  },
  {
   "cell_type": "code",
   "execution_count": 79,
   "metadata": {},
   "outputs": [
    {
     "data": {
      "text/plain": [
       "Text(0.5, 0.98, 'Scatterplot of Wine Spectator Score vs. Wine Price')"
      ]
     },
     "execution_count": 79,
     "metadata": {},
     "output_type": "execute_result"
    },
    {
     "data": {
      "image/png": "[encoded data removed]",
      "text/plain": [
       "<Figure size 720x720 with 1 Axes>"
      ]
     },
     "metadata": {
      "needs_background": "light"
     },
     "output_type": "display_data"
    }
   ],
   "source": [
    "# Plot scatterplot of Score vs. Price\n",
    "\n",
    "dim = (10, 10)\n",
    "fig, ax = plt.subplots(figsize = dim)\n",
    "\n",
    "sns.scatterplot(data = df_w_notnull, x = 'Price', y = 'Score', palette = 'colorblind', hue = 'Wine_Style', ax = ax)\n",
    "plt.suptitle('Scatterplot of Wine Spectator Score vs. Wine Price')"
   ]
  },
  {
   "cell_type": "markdown",
   "metadata": {},
   "source": [
    "## Eliminate Outliers\n",
    "Repeat the analysis above, but exclude two wines with extreme prices:\n",
    "* Ribera del Duero Unico 2010, Score = 96, Price = 540\n",
    "* Ribera del Duero Unico Reserva Especial NV, Score = 95, Price = 700"
   ]
  },
  {
   "cell_type": "code",
   "execution_count": 80,
   "metadata": {},
   "outputs": [
    {
     "data": {
      "text/plain": [
       "(591, 59)"
      ]
     },
     "execution_count": 80,
     "metadata": {},
     "output_type": "execute_result"
    }
   ],
   "source": [
    "df_w_trim = df_w[\n",
    "    (df_w.Score > 0) & \n",
    "    (df_w.Price > 0) &\n",
    "    (df_w.Price < 540)\n",
    "]\n",
    "\n",
    "df_w_trim.shape"
   ]
  },
  {
   "cell_type": "code",
   "execution_count": 81,
   "metadata": {},
   "outputs": [
    {
     "data": {
      "image/png": "[encoded data removed]",
      "text/plain": [
       "<Figure size 432x288 with 1 Axes>"
      ]
     },
     "metadata": {
      "needs_background": "light"
     },
     "output_type": "display_data"
    }
   ],
   "source": [
    "# Plot histograms of Scores\n",
    "\n",
    "s_mean = df_w_trim.Score.mean()\n",
    "s_stdev = df_w_trim.Score.std()\n",
    "ms = 'mean = ' + str(round(s_mean, 2)) + ', stdev = ' + str(round(s_stdev, 2))\n",
    "\n",
    "n, bins, patches = plt.hist(df_w_trim.Score, 50)\n",
    "plt.xlabel('Score')\n",
    "plt.ylabel('Counts')\n",
    "plt.suptitle('Histogram of Wine Spectator Scores')\n",
    "plt.text(76, 80, ms)\n",
    "plt.show()"
   ]
  },
  {
   "cell_type": "code",
   "execution_count": 82,
   "metadata": {},
   "outputs": [
    {
     "data": {
      "image/png": "[encoded data removed]",
      "text/plain": [
       "<Figure size 432x288 with 1 Axes>"
      ]
     },
     "metadata": {
      "needs_background": "light"
     },
     "output_type": "display_data"
    }
   ],
   "source": [
    "# Plot histograms of Prices\n",
    "\n",
    "s_mean = df_w_trim.Price.mean()\n",
    "s_stdev = df_w_trim.Price.std()\n",
    "ms = 'mean = ' + str(round(s_mean, 2)) + ', stdev = ' + str(round(s_stdev, 2))\n",
    "\n",
    "n, bins, patches = plt.hist(df_w_trim.Price, 50)\n",
    "plt.xlabel('Price')\n",
    "plt.ylabel('Counts')\n",
    "plt.suptitle('Histogram of Wine Prices')\n",
    "plt.text(100, 100, ms)\n",
    "plt.show()"
   ]
  },
  {
   "cell_type": "code",
   "execution_count": 83,
   "metadata": {},
   "outputs": [
    {
     "data": {
      "text/plain": [
       "Text(0.5, 0.98, 'Box Plot of Wine Spectator Scores')"
      ]
     },
     "execution_count": 83,
     "metadata": {},
     "output_type": "execute_result"
    },
    {
     "data": {
      "image/png": "[encoded data removed]",
      "text/plain": [
       "<Figure size 720x576 with 1 Axes>"
      ]
     },
     "metadata": {
      "needs_background": "light"
     },
     "output_type": "display_data"
    },
    {
     "data": {
      "image/png": "[encoded data removed]",
      "text/plain": [
       "<Figure size 360x360 with 1 Axes>"
      ]
     },
     "metadata": {
      "needs_background": "light"
     },
     "output_type": "display_data"
    }
   ],
   "source": [
    "# Plot boxplot of Scores\n",
    "dim = (10, 8)\n",
    "fig, ax = plt.subplots(figsize = dim)\n",
    "\n",
    "sns.catplot(x = 'Score', data = df_w_trim, kind = 'box', showmeans = True, ax=ax)\n",
    "plt.suptitle('Box Plot of Wine Spectator Scores')"
   ]
  },
  {
   "cell_type": "code",
   "execution_count": 84,
   "metadata": {},
   "outputs": [
    {
     "data": {
      "text/plain": [
       "Text(0.5, 0.98, 'Box Plot of Wine Prices')"
      ]
     },
     "execution_count": 84,
     "metadata": {},
     "output_type": "execute_result"
    },
    {
     "data": {
      "image/png": "[encoded data removed]",
      "text/plain": [
       "<Figure size 720x576 with 1 Axes>"
      ]
     },
     "metadata": {
      "needs_background": "light"
     },
     "output_type": "display_data"
    },
    {
     "data": {
      "image/png": "[encoded data removed]",
      "text/plain": [
       "<Figure size 360x360 with 1 Axes>"
      ]
     },
     "metadata": {
      "needs_background": "light"
     },
     "output_type": "display_data"
    }
   ],
   "source": [
    "# Plot boxplot of Prices\n",
    "dim = (10, 8)\n",
    "fig, ax = plt.subplots(figsize = dim)\n",
    "\n",
    "sns.catplot(x = 'Price', data = df_w_trim, kind = 'box', showmeans = True, ax=ax)\n",
    "plt.suptitle('Box Plot of Wine Prices')"
   ]
  },
  {
   "cell_type": "code",
   "execution_count": 85,
   "metadata": {},
   "outputs": [
    {
     "data": {
      "text/plain": [
       "Text(0.5, 0.98, 'Scatterplot of Wine Spectator Score vs. Wine Price')"
      ]
     },
     "execution_count": 85,
     "metadata": {},
     "output_type": "execute_result"
    },
    {
     "data": {
      "image/png": "[encoded data removed]",
      "text/plain": [
       "<Figure size 720x720 with 1 Axes>"
      ]
     },
     "metadata": {
      "needs_background": "light"
     },
     "output_type": "display_data"
    }
   ],
   "source": [
    "# Plot scatterplot of Score vs. Price\n",
    "\n",
    "dim = (10, 10)\n",
    "fig, ax = plt.subplots(figsize = dim)\n",
    "\n",
    "sns.scatterplot(data = df_w_trim, x = 'Price', y = 'Score', palette = 'colorblind', hue = 'Wine_Style', ax = ax)\n",
    "plt.suptitle('Scatterplot of Wine Spectator Score vs. Wine Price')"
   ]
  },
  {
   "cell_type": "markdown",
   "metadata": {},
   "source": [
    "## Statistics by Wine Style"
   ]
  },
  {
   "cell_type": "code",
   "execution_count": 86,
   "metadata": {},
   "outputs": [
    {
     "data": {
      "text/plain": [
       "Text(0.5, 0.98, 'Count of Wines by Wine Style')"
      ]
     },
     "execution_count": 86,
     "metadata": {},
     "output_type": "execute_result"
    },
    {
     "data": {
      "image/png": "[encoded data removed]",
      "text/plain": [
       "<Figure size 720x576 with 1 Axes>"
      ]
     },
     "metadata": {
      "needs_background": "light"
     },
     "output_type": "display_data"
    },
    {
     "data": {
      "image/png": "[encoded data removed]",
      "text/plain": [
       "<Figure size 360x360 with 1 Axes>"
      ]
     },
     "metadata": {
      "needs_background": "light"
     },
     "output_type": "display_data"
    }
   ],
   "source": [
    "# Countplot: What is the distribution of scores by wine style?\n",
    "\n",
    "dim = (10, 8)\n",
    "fig, ax = plt.subplots(figsize = dim)\n",
    "\n",
    "sns.catplot(y = 'Wine_Style', kind = 'count', palette='colorblind', edgecolor='.6', data = df_w_trim, ax = ax)\n",
    "plt.suptitle('Count of Wines by Wine Style')"
   ]
  },
  {
   "cell_type": "code",
   "execution_count": 87,
   "metadata": {
    "scrolled": false
   },
   "outputs": [
    {
     "data": {
      "text/plain": [
       "Text(0.5, 0.98, 'Box Plot of Wine Spectator Score by Wine Style')"
      ]
     },
     "execution_count": 87,
     "metadata": {},
     "output_type": "execute_result"
    },
    {
     "data": {
      "image/png": "[encoded data removed]",
      "text/plain": [
       "<Figure size 1080x576 with 1 Axes>"
      ]
     },
     "metadata": {
      "needs_background": "light"
     },
     "output_type": "display_data"
    },
    {
     "data": {
      "image/png": "[encoded data removed]",
      "text/plain": [
       "<Figure size 360x360 with 1 Axes>"
      ]
     },
     "metadata": {
      "needs_background": "light"
     },
     "output_type": "display_data"
    }
   ],
   "source": [
    "# Box Plot of Scores by Wine Style\n",
    "\n",
    "dim = (15, 8)\n",
    "fig, ax = plt.subplots(figsize = dim)\n",
    "\n",
    "sns.catplot(y = 'Wine_Style', x = 'Score', data = df_w_trim, kind = 'box', ax = ax, showmeans = True)\n",
    "plt.suptitle('Box Plot of Wine Spectator Score by Wine Style')"
   ]
  },
  {
   "cell_type": "code",
   "execution_count": 88,
   "metadata": {},
   "outputs": [
    {
     "data": {
      "text/plain": [
       "Text(0.5, 0.98, 'Box Plot of Wine Price by Wine Style')"
      ]
     },
     "execution_count": 88,
     "metadata": {},
     "output_type": "execute_result"
    },
    {
     "data": {
      "image/png": "[encoded data removed]",
      "text/plain": [
       "<Figure size 1080x576 with 1 Axes>"
      ]
     },
     "metadata": {
      "needs_background": "light"
     },
     "output_type": "display_data"
    },
    {
     "data": {
      "image/png": "[encoded data removed]",
      "text/plain": [
       "<Figure size 360x360 with 1 Axes>"
      ]
     },
     "metadata": {
      "needs_background": "light"
     },
     "output_type": "display_data"
    }
   ],
   "source": [
    "# Box Plot of Prices by Wine Style\n",
    "\n",
    "dim = (15, 8)\n",
    "fig, ax = plt.subplots(figsize = dim)\n",
    "\n",
    "sns.catplot(y = 'Wine_Style', x = 'Price', data = df_w_trim, kind = 'box', ax = ax, showmeans = True)\n",
    "plt.suptitle('Box Plot of Wine Price by Wine Style')"
   ]
  },
  {
   "cell_type": "markdown",
   "metadata": {},
   "source": [
    "### Hypothesis Test: Wine Score by Wine Style\n",
    "Determine whether or not the difference in means between wine styles is statistically significant for Wine Spectator Score.  \n",
    "#### Test Setup: Two-Sided T-Test on *Wine Spectator* Scores\n",
    "Scores follow an apparent normal distribution; use Student's t distribution.  \n",
    "  \n",
    "  \n",
    "H<sub>0</sub>: &mu;<sub>1</sub> - &mu;<sub>2</sub> = 0  \n",
    "H<sub>1</sub>: &mu;<sub>1</sub> - &mu;<sub>2</sub> &#8800; 0  \n",
    "  \n",
    "significance level: 0.10\n",
    "\n",
    "*Reject the null hypothesis when p-value < significance level*"
   ]
  },
  {
   "cell_type": "code",
   "execution_count": 89,
   "metadata": {},
   "outputs": [],
   "source": [
    "# input significance level\n",
    "sig = 0.1"
   ]
  },
  {
   "cell_type": "code",
   "execution_count": 90,
   "metadata": {},
   "outputs": [
    {
     "name": "stderr",
     "output_type": "stream",
     "text": [
      "/home/elizabethwotawa/anaconda3/lib/python3.7/site-packages/numpy/core/fromnumeric.py:3367: RuntimeWarning: Degrees of freedom <= 0 for slice\n",
      "  **kwargs)\n",
      "/home/elizabethwotawa/anaconda3/lib/python3.7/site-packages/numpy/core/_methods.py:132: RuntimeWarning: invalid value encountered in double_scalars\n",
      "  ret = ret.dtype.type(ret / rcount)\n"
     ]
    }
   ],
   "source": [
    "# Create a loopable array of Wine Styles\n",
    "styles = df_w_trim.Wine_Style.unique()\n",
    "\n",
    "# Set up data frames to house two-sided t-test\n",
    "ttest_cols = ['style_1', 'style_2', 's1', 's2', 'n1', 'n2', 'x1', 'x2', 'ttest_tstat', 'ttest_pvalue', 'reject_null']\n",
    "df_t_s = pd.DataFrame(columns = ttest_cols)\n",
    "\n",
    "# For each pair of wine styles, populate the dataframe with statistics\n",
    "for style in styles:\n",
    "    style_1 = style\n",
    "    for style in styles:\n",
    "        style_2 = style\n",
    "        # standard deviation of each wine style\n",
    "        s1 = df_w_trim[(df_w_trim.Wine_Style == style_1)].Score.std()\n",
    "        s2 = df_w_trim[(df_w_trim.Wine_Style == style_2)].Score.std()\n",
    "        # number of scores of each wine style\n",
    "        n1 = df_w_trim[(df_w_trim.Wine_Style == style_1)].Score.count()\n",
    "        n2 = df_w_trim[(df_w_trim.Wine_Style == style_2)].Score.count()\n",
    "        # sample mean by wine style\n",
    "        x1 = df_w_trim[(df_w_trim.Wine_Style == style_1)].Score.mean()\n",
    "        x2 = df_w_trim[(df_w_trim.Wine_Style == style_2)].Score.mean()\n",
    "        \n",
    "        # Run SciPy stats t-test\n",
    "        arr1 = df_w_trim[(df_w_trim.Wine_Style == style_1)].Score\n",
    "        arr2 = df_w_trim[(df_w_trim.Wine_Style == style_2)].Score\n",
    "        \n",
    "        ttest = stats.ttest_ind(arr1, arr2)\n",
    "        \n",
    "        # reject the null hypothesis when the P-value is less than the significance level\n",
    "        if ( ttest[1] < sig ):\n",
    "            reject_null = True\n",
    "        else:\n",
    "            reject_null = False\n",
    "        \n",
    "        # put variables in array\n",
    "        arr_temp = [style_1, style_2, s1, s2, n1, n2, x1, x2, ttest[0], ttest[1], reject_null]\n",
    "        \n",
    "        # convert array into series\n",
    "        series_temp = pd.Series(arr_temp, index = df_t_s.columns)\n",
    "        \n",
    "        # append series to dataframe\n",
    "        df_t_s = df_t_s.append(series_temp, ignore_index=True)"
   ]
  },
  {
   "cell_type": "code",
   "execution_count": 91,
   "metadata": {},
   "outputs": [
    {
     "data": {
      "text/html": [
       "<div>\n",
       "<style scoped>\n",
       "    .dataframe tbody tr th:only-of-type {\n",
       "        vertical-align: middle;\n",
       "    }\n",
       "\n",
       "    .dataframe tbody tr th {\n",
       "        vertical-align: top;\n",
       "    }\n",
       "\n",
       "    .dataframe thead th {\n",
       "        text-align: right;\n",
       "    }\n",
       "</style>\n",
       "<table border=\"1\" class=\"dataframe\">\n",
       "  <thead>\n",
       "    <tr style=\"text-align: right;\">\n",
       "      <th></th>\n",
       "      <th>style_1</th>\n",
       "      <th>style_2</th>\n",
       "      <th>s1</th>\n",
       "      <th>s2</th>\n",
       "      <th>n1</th>\n",
       "      <th>n2</th>\n",
       "      <th>x1</th>\n",
       "      <th>x2</th>\n",
       "      <th>ttest_tstat</th>\n",
       "      <th>ttest_pvalue</th>\n",
       "      <th>reject_null</th>\n",
       "    </tr>\n",
       "  </thead>\n",
       "  <tbody>\n",
       "    <tr>\n",
       "      <th>0</th>\n",
       "      <td>Rosé / Rosado</td>\n",
       "      <td>Rosé / Rosado</td>\n",
       "      <td>2.293764</td>\n",
       "      <td>2.293764</td>\n",
       "      <td>43</td>\n",
       "      <td>43</td>\n",
       "      <td>86.976744</td>\n",
       "      <td>86.976744</td>\n",
       "      <td>0.000000</td>\n",
       "      <td>1.000000</td>\n",
       "      <td>False</td>\n",
       "    </tr>\n",
       "    <tr>\n",
       "      <th>1</th>\n",
       "      <td>Rosé / Rosado</td>\n",
       "      <td>White</td>\n",
       "      <td>2.293764</td>\n",
       "      <td>2.461283</td>\n",
       "      <td>43</td>\n",
       "      <td>112</td>\n",
       "      <td>86.976744</td>\n",
       "      <td>88.178571</td>\n",
       "      <td>-2.772304</td>\n",
       "      <td>0.006258</td>\n",
       "      <td>True</td>\n",
       "    </tr>\n",
       "    <tr>\n",
       "      <th>2</th>\n",
       "      <td>Rosé / Rosado</td>\n",
       "      <td>Red</td>\n",
       "      <td>2.293764</td>\n",
       "      <td>2.708077</td>\n",
       "      <td>43</td>\n",
       "      <td>410</td>\n",
       "      <td>86.976744</td>\n",
       "      <td>89.060976</td>\n",
       "      <td>-4.865784</td>\n",
       "      <td>0.000002</td>\n",
       "      <td>True</td>\n",
       "    </tr>\n",
       "    <tr>\n",
       "      <th>3</th>\n",
       "      <td>Rosé / Rosado</td>\n",
       "      <td>Sherry</td>\n",
       "      <td>2.293764</td>\n",
       "      <td>1.754116</td>\n",
       "      <td>43</td>\n",
       "      <td>13</td>\n",
       "      <td>86.976744</td>\n",
       "      <td>89.923077</td>\n",
       "      <td>-4.259563</td>\n",
       "      <td>0.000082</td>\n",
       "      <td>True</td>\n",
       "    </tr>\n",
       "    <tr>\n",
       "      <th>4</th>\n",
       "      <td>Rosé / Rosado</td>\n",
       "      <td>Sparkling</td>\n",
       "      <td>2.293764</td>\n",
       "      <td>2.059715</td>\n",
       "      <td>43</td>\n",
       "      <td>12</td>\n",
       "      <td>86.976744</td>\n",
       "      <td>87.666667</td>\n",
       "      <td>-0.940380</td>\n",
       "      <td>0.351289</td>\n",
       "      <td>False</td>\n",
       "    </tr>\n",
       "    <tr>\n",
       "      <th>5</th>\n",
       "      <td>Rosé / Rosado</td>\n",
       "      <td>Rosé / Rosado Sparkling</td>\n",
       "      <td>2.293764</td>\n",
       "      <td>NaN</td>\n",
       "      <td>43</td>\n",
       "      <td>1</td>\n",
       "      <td>86.976744</td>\n",
       "      <td>87.000000</td>\n",
       "      <td>NaN</td>\n",
       "      <td>NaN</td>\n",
       "      <td>False</td>\n",
       "    </tr>\n",
       "    <tr>\n",
       "      <th>6</th>\n",
       "      <td>White</td>\n",
       "      <td>Rosé / Rosado</td>\n",
       "      <td>2.461283</td>\n",
       "      <td>2.293764</td>\n",
       "      <td>112</td>\n",
       "      <td>43</td>\n",
       "      <td>88.178571</td>\n",
       "      <td>86.976744</td>\n",
       "      <td>2.772304</td>\n",
       "      <td>0.006258</td>\n",
       "      <td>True</td>\n",
       "    </tr>\n",
       "    <tr>\n",
       "      <th>7</th>\n",
       "      <td>White</td>\n",
       "      <td>White</td>\n",
       "      <td>2.461283</td>\n",
       "      <td>2.461283</td>\n",
       "      <td>112</td>\n",
       "      <td>112</td>\n",
       "      <td>88.178571</td>\n",
       "      <td>88.178571</td>\n",
       "      <td>0.000000</td>\n",
       "      <td>1.000000</td>\n",
       "      <td>False</td>\n",
       "    </tr>\n",
       "    <tr>\n",
       "      <th>8</th>\n",
       "      <td>White</td>\n",
       "      <td>Red</td>\n",
       "      <td>2.461283</td>\n",
       "      <td>2.708077</td>\n",
       "      <td>112</td>\n",
       "      <td>410</td>\n",
       "      <td>88.178571</td>\n",
       "      <td>89.060976</td>\n",
       "      <td>-3.114507</td>\n",
       "      <td>0.001944</td>\n",
       "      <td>True</td>\n",
       "    </tr>\n",
       "    <tr>\n",
       "      <th>9</th>\n",
       "      <td>White</td>\n",
       "      <td>Sherry</td>\n",
       "      <td>2.461283</td>\n",
       "      <td>1.754116</td>\n",
       "      <td>112</td>\n",
       "      <td>13</td>\n",
       "      <td>88.178571</td>\n",
       "      <td>89.923077</td>\n",
       "      <td>-2.479247</td>\n",
       "      <td>0.014520</td>\n",
       "      <td>True</td>\n",
       "    </tr>\n",
       "    <tr>\n",
       "      <th>10</th>\n",
       "      <td>White</td>\n",
       "      <td>Sparkling</td>\n",
       "      <td>2.461283</td>\n",
       "      <td>2.059715</td>\n",
       "      <td>112</td>\n",
       "      <td>12</td>\n",
       "      <td>88.178571</td>\n",
       "      <td>87.666667</td>\n",
       "      <td>0.694168</td>\n",
       "      <td>0.488897</td>\n",
       "      <td>False</td>\n",
       "    </tr>\n",
       "    <tr>\n",
       "      <th>11</th>\n",
       "      <td>White</td>\n",
       "      <td>Rosé / Rosado Sparkling</td>\n",
       "      <td>2.461283</td>\n",
       "      <td>NaN</td>\n",
       "      <td>112</td>\n",
       "      <td>1</td>\n",
       "      <td>88.178571</td>\n",
       "      <td>87.000000</td>\n",
       "      <td>NaN</td>\n",
       "      <td>NaN</td>\n",
       "      <td>False</td>\n",
       "    </tr>\n",
       "    <tr>\n",
       "      <th>12</th>\n",
       "      <td>Red</td>\n",
       "      <td>Rosé / Rosado</td>\n",
       "      <td>2.708077</td>\n",
       "      <td>2.293764</td>\n",
       "      <td>410</td>\n",
       "      <td>43</td>\n",
       "      <td>89.060976</td>\n",
       "      <td>86.976744</td>\n",
       "      <td>4.865784</td>\n",
       "      <td>0.000002</td>\n",
       "      <td>True</td>\n",
       "    </tr>\n",
       "    <tr>\n",
       "      <th>13</th>\n",
       "      <td>Red</td>\n",
       "      <td>White</td>\n",
       "      <td>2.708077</td>\n",
       "      <td>2.461283</td>\n",
       "      <td>410</td>\n",
       "      <td>112</td>\n",
       "      <td>89.060976</td>\n",
       "      <td>88.178571</td>\n",
       "      <td>3.114507</td>\n",
       "      <td>0.001944</td>\n",
       "      <td>True</td>\n",
       "    </tr>\n",
       "    <tr>\n",
       "      <th>14</th>\n",
       "      <td>Red</td>\n",
       "      <td>Red</td>\n",
       "      <td>2.708077</td>\n",
       "      <td>2.708077</td>\n",
       "      <td>410</td>\n",
       "      <td>410</td>\n",
       "      <td>89.060976</td>\n",
       "      <td>89.060976</td>\n",
       "      <td>0.000000</td>\n",
       "      <td>1.000000</td>\n",
       "      <td>False</td>\n",
       "    </tr>\n",
       "    <tr>\n",
       "      <th>15</th>\n",
       "      <td>Red</td>\n",
       "      <td>Sherry</td>\n",
       "      <td>2.708077</td>\n",
       "      <td>1.754116</td>\n",
       "      <td>410</td>\n",
       "      <td>13</td>\n",
       "      <td>89.060976</td>\n",
       "      <td>89.923077</td>\n",
       "      <td>-1.139498</td>\n",
       "      <td>0.255144</td>\n",
       "      <td>False</td>\n",
       "    </tr>\n",
       "    <tr>\n",
       "      <th>16</th>\n",
       "      <td>Red</td>\n",
       "      <td>Sparkling</td>\n",
       "      <td>2.708077</td>\n",
       "      <td>2.059715</td>\n",
       "      <td>410</td>\n",
       "      <td>12</td>\n",
       "      <td>89.060976</td>\n",
       "      <td>87.666667</td>\n",
       "      <td>1.767807</td>\n",
       "      <td>0.077819</td>\n",
       "      <td>True</td>\n",
       "    </tr>\n",
       "    <tr>\n",
       "      <th>17</th>\n",
       "      <td>Red</td>\n",
       "      <td>Rosé / Rosado Sparkling</td>\n",
       "      <td>2.708077</td>\n",
       "      <td>NaN</td>\n",
       "      <td>410</td>\n",
       "      <td>1</td>\n",
       "      <td>89.060976</td>\n",
       "      <td>87.000000</td>\n",
       "      <td>NaN</td>\n",
       "      <td>NaN</td>\n",
       "      <td>False</td>\n",
       "    </tr>\n",
       "    <tr>\n",
       "      <th>18</th>\n",
       "      <td>Sherry</td>\n",
       "      <td>Rosé / Rosado</td>\n",
       "      <td>1.754116</td>\n",
       "      <td>2.293764</td>\n",
       "      <td>13</td>\n",
       "      <td>43</td>\n",
       "      <td>89.923077</td>\n",
       "      <td>86.976744</td>\n",
       "      <td>4.259563</td>\n",
       "      <td>0.000082</td>\n",
       "      <td>True</td>\n",
       "    </tr>\n",
       "    <tr>\n",
       "      <th>19</th>\n",
       "      <td>Sherry</td>\n",
       "      <td>White</td>\n",
       "      <td>1.754116</td>\n",
       "      <td>2.461283</td>\n",
       "      <td>13</td>\n",
       "      <td>112</td>\n",
       "      <td>89.923077</td>\n",
       "      <td>88.178571</td>\n",
       "      <td>2.479247</td>\n",
       "      <td>0.014520</td>\n",
       "      <td>True</td>\n",
       "    </tr>\n",
       "    <tr>\n",
       "      <th>20</th>\n",
       "      <td>Sherry</td>\n",
       "      <td>Red</td>\n",
       "      <td>1.754116</td>\n",
       "      <td>2.708077</td>\n",
       "      <td>13</td>\n",
       "      <td>410</td>\n",
       "      <td>89.923077</td>\n",
       "      <td>89.060976</td>\n",
       "      <td>1.139498</td>\n",
       "      <td>0.255144</td>\n",
       "      <td>False</td>\n",
       "    </tr>\n",
       "    <tr>\n",
       "      <th>21</th>\n",
       "      <td>Sherry</td>\n",
       "      <td>Sherry</td>\n",
       "      <td>1.754116</td>\n",
       "      <td>1.754116</td>\n",
       "      <td>13</td>\n",
       "      <td>13</td>\n",
       "      <td>89.923077</td>\n",
       "      <td>89.923077</td>\n",
       "      <td>0.000000</td>\n",
       "      <td>1.000000</td>\n",
       "      <td>False</td>\n",
       "    </tr>\n",
       "    <tr>\n",
       "      <th>22</th>\n",
       "      <td>Sherry</td>\n",
       "      <td>Sparkling</td>\n",
       "      <td>1.754116</td>\n",
       "      <td>2.059715</td>\n",
       "      <td>13</td>\n",
       "      <td>12</td>\n",
       "      <td>89.923077</td>\n",
       "      <td>87.666667</td>\n",
       "      <td>2.956635</td>\n",
       "      <td>0.007074</td>\n",
       "      <td>True</td>\n",
       "    </tr>\n",
       "    <tr>\n",
       "      <th>23</th>\n",
       "      <td>Sherry</td>\n",
       "      <td>Rosé / Rosado Sparkling</td>\n",
       "      <td>1.754116</td>\n",
       "      <td>NaN</td>\n",
       "      <td>13</td>\n",
       "      <td>1</td>\n",
       "      <td>89.923077</td>\n",
       "      <td>87.000000</td>\n",
       "      <td>NaN</td>\n",
       "      <td>NaN</td>\n",
       "      <td>False</td>\n",
       "    </tr>\n",
       "    <tr>\n",
       "      <th>24</th>\n",
       "      <td>Sparkling</td>\n",
       "      <td>Rosé / Rosado</td>\n",
       "      <td>2.059715</td>\n",
       "      <td>2.293764</td>\n",
       "      <td>12</td>\n",
       "      <td>43</td>\n",
       "      <td>87.666667</td>\n",
       "      <td>86.976744</td>\n",
       "      <td>0.940380</td>\n",
       "      <td>0.351289</td>\n",
       "      <td>False</td>\n",
       "    </tr>\n",
       "    <tr>\n",
       "      <th>25</th>\n",
       "      <td>Sparkling</td>\n",
       "      <td>White</td>\n",
       "      <td>2.059715</td>\n",
       "      <td>2.461283</td>\n",
       "      <td>12</td>\n",
       "      <td>112</td>\n",
       "      <td>87.666667</td>\n",
       "      <td>88.178571</td>\n",
       "      <td>-0.694168</td>\n",
       "      <td>0.488897</td>\n",
       "      <td>False</td>\n",
       "    </tr>\n",
       "    <tr>\n",
       "      <th>26</th>\n",
       "      <td>Sparkling</td>\n",
       "      <td>Red</td>\n",
       "      <td>2.059715</td>\n",
       "      <td>2.708077</td>\n",
       "      <td>12</td>\n",
       "      <td>410</td>\n",
       "      <td>87.666667</td>\n",
       "      <td>89.060976</td>\n",
       "      <td>-1.767807</td>\n",
       "      <td>0.077819</td>\n",
       "      <td>True</td>\n",
       "    </tr>\n",
       "    <tr>\n",
       "      <th>27</th>\n",
       "      <td>Sparkling</td>\n",
       "      <td>Sherry</td>\n",
       "      <td>2.059715</td>\n",
       "      <td>1.754116</td>\n",
       "      <td>12</td>\n",
       "      <td>13</td>\n",
       "      <td>87.666667</td>\n",
       "      <td>89.923077</td>\n",
       "      <td>-2.956635</td>\n",
       "      <td>0.007074</td>\n",
       "      <td>True</td>\n",
       "    </tr>\n",
       "    <tr>\n",
       "      <th>28</th>\n",
       "      <td>Sparkling</td>\n",
       "      <td>Sparkling</td>\n",
       "      <td>2.059715</td>\n",
       "      <td>2.059715</td>\n",
       "      <td>12</td>\n",
       "      <td>12</td>\n",
       "      <td>87.666667</td>\n",
       "      <td>87.666667</td>\n",
       "      <td>0.000000</td>\n",
       "      <td>1.000000</td>\n",
       "      <td>False</td>\n",
       "    </tr>\n",
       "    <tr>\n",
       "      <th>29</th>\n",
       "      <td>Sparkling</td>\n",
       "      <td>Rosé / Rosado Sparkling</td>\n",
       "      <td>2.059715</td>\n",
       "      <td>NaN</td>\n",
       "      <td>12</td>\n",
       "      <td>1</td>\n",
       "      <td>87.666667</td>\n",
       "      <td>87.000000</td>\n",
       "      <td>NaN</td>\n",
       "      <td>NaN</td>\n",
       "      <td>False</td>\n",
       "    </tr>\n",
       "    <tr>\n",
       "      <th>30</th>\n",
       "      <td>Rosé / Rosado Sparkling</td>\n",
       "      <td>Rosé / Rosado</td>\n",
       "      <td>NaN</td>\n",
       "      <td>2.293764</td>\n",
       "      <td>1</td>\n",
       "      <td>43</td>\n",
       "      <td>87.000000</td>\n",
       "      <td>86.976744</td>\n",
       "      <td>NaN</td>\n",
       "      <td>NaN</td>\n",
       "      <td>False</td>\n",
       "    </tr>\n",
       "    <tr>\n",
       "      <th>31</th>\n",
       "      <td>Rosé / Rosado Sparkling</td>\n",
       "      <td>White</td>\n",
       "      <td>NaN</td>\n",
       "      <td>2.461283</td>\n",
       "      <td>1</td>\n",
       "      <td>112</td>\n",
       "      <td>87.000000</td>\n",
       "      <td>88.178571</td>\n",
       "      <td>NaN</td>\n",
       "      <td>NaN</td>\n",
       "      <td>False</td>\n",
       "    </tr>\n",
       "    <tr>\n",
       "      <th>32</th>\n",
       "      <td>Rosé / Rosado Sparkling</td>\n",
       "      <td>Red</td>\n",
       "      <td>NaN</td>\n",
       "      <td>2.708077</td>\n",
       "      <td>1</td>\n",
       "      <td>410</td>\n",
       "      <td>87.000000</td>\n",
       "      <td>89.060976</td>\n",
       "      <td>NaN</td>\n",
       "      <td>NaN</td>\n",
       "      <td>False</td>\n",
       "    </tr>\n",
       "    <tr>\n",
       "      <th>33</th>\n",
       "      <td>Rosé / Rosado Sparkling</td>\n",
       "      <td>Sherry</td>\n",
       "      <td>NaN</td>\n",
       "      <td>1.754116</td>\n",
       "      <td>1</td>\n",
       "      <td>13</td>\n",
       "      <td>87.000000</td>\n",
       "      <td>89.923077</td>\n",
       "      <td>NaN</td>\n",
       "      <td>NaN</td>\n",
       "      <td>False</td>\n",
       "    </tr>\n",
       "    <tr>\n",
       "      <th>34</th>\n",
       "      <td>Rosé / Rosado Sparkling</td>\n",
       "      <td>Sparkling</td>\n",
       "      <td>NaN</td>\n",
       "      <td>2.059715</td>\n",
       "      <td>1</td>\n",
       "      <td>12</td>\n",
       "      <td>87.000000</td>\n",
       "      <td>87.666667</td>\n",
       "      <td>NaN</td>\n",
       "      <td>NaN</td>\n",
       "      <td>False</td>\n",
       "    </tr>\n",
       "    <tr>\n",
       "      <th>35</th>\n",
       "      <td>Rosé / Rosado Sparkling</td>\n",
       "      <td>Rosé / Rosado Sparkling</td>\n",
       "      <td>NaN</td>\n",
       "      <td>NaN</td>\n",
       "      <td>1</td>\n",
       "      <td>1</td>\n",
       "      <td>87.000000</td>\n",
       "      <td>87.000000</td>\n",
       "      <td>NaN</td>\n",
       "      <td>NaN</td>\n",
       "      <td>False</td>\n",
       "    </tr>\n",
       "  </tbody>\n",
       "</table>\n",
       "</div>"
      ],
      "text/plain": [
       "                     style_1                   style_2        s1        s2  \\\n",
       "0              Rosé / Rosado             Rosé / Rosado  2.293764  2.293764   \n",
       "1              Rosé / Rosado                     White  2.293764  2.461283   \n",
       "2              Rosé / Rosado                       Red  2.293764  2.708077   \n",
       "3              Rosé / Rosado                    Sherry  2.293764  1.754116   \n",
       "4              Rosé / Rosado                 Sparkling  2.293764  2.059715   \n",
       "5              Rosé / Rosado  Rosé / Rosado Sparkling   2.293764       NaN   \n",
       "6                      White             Rosé / Rosado  2.461283  2.293764   \n",
       "7                      White                     White  2.461283  2.461283   \n",
       "8                      White                       Red  2.461283  2.708077   \n",
       "9                      White                    Sherry  2.461283  1.754116   \n",
       "10                     White                 Sparkling  2.461283  2.059715   \n",
       "11                     White  Rosé / Rosado Sparkling   2.461283       NaN   \n",
       "12                       Red             Rosé / Rosado  2.708077  2.293764   \n",
       "13                       Red                     White  2.708077  2.461283   \n",
       "14                       Red                       Red  2.708077  2.708077   \n",
       "15                       Red                    Sherry  2.708077  1.754116   \n",
       "16                       Red                 Sparkling  2.708077  2.059715   \n",
       "17                       Red  Rosé / Rosado Sparkling   2.708077       NaN   \n",
       "18                    Sherry             Rosé / Rosado  1.754116  2.293764   \n",
       "19                    Sherry                     White  1.754116  2.461283   \n",
       "20                    Sherry                       Red  1.754116  2.708077   \n",
       "21                    Sherry                    Sherry  1.754116  1.754116   \n",
       "22                    Sherry                 Sparkling  1.754116  2.059715   \n",
       "23                    Sherry  Rosé / Rosado Sparkling   1.754116       NaN   \n",
       "24                 Sparkling             Rosé / Rosado  2.059715  2.293764   \n",
       "25                 Sparkling                     White  2.059715  2.461283   \n",
       "26                 Sparkling                       Red  2.059715  2.708077   \n",
       "27                 Sparkling                    Sherry  2.059715  1.754116   \n",
       "28                 Sparkling                 Sparkling  2.059715  2.059715   \n",
       "29                 Sparkling  Rosé / Rosado Sparkling   2.059715       NaN   \n",
       "30  Rosé / Rosado Sparkling              Rosé / Rosado       NaN  2.293764   \n",
       "31  Rosé / Rosado Sparkling                      White       NaN  2.461283   \n",
       "32  Rosé / Rosado Sparkling                        Red       NaN  2.708077   \n",
       "33  Rosé / Rosado Sparkling                     Sherry       NaN  1.754116   \n",
       "34  Rosé / Rosado Sparkling                  Sparkling       NaN  2.059715   \n",
       "35  Rosé / Rosado Sparkling   Rosé / Rosado Sparkling        NaN       NaN   \n",
       "\n",
       "     n1   n2         x1         x2  ttest_tstat  ttest_pvalue reject_null  \n",
       "0    43   43  86.976744  86.976744     0.000000      1.000000       False  \n",
       "1    43  112  86.976744  88.178571    -2.772304      0.006258        True  \n",
       "2    43  410  86.976744  89.060976    -4.865784      0.000002        True  \n",
       "3    43   13  86.976744  89.923077    -4.259563      0.000082        True  \n",
       "4    43   12  86.976744  87.666667    -0.940380      0.351289       False  \n",
       "5    43    1  86.976744  87.000000          NaN           NaN       False  \n",
       "6   112   43  88.178571  86.976744     2.772304      0.006258        True  \n",
       "7   112  112  88.178571  88.178571     0.000000      1.000000       False  \n",
       "8   112  410  88.178571  89.060976    -3.114507      0.001944        True  \n",
       "9   112   13  88.178571  89.923077    -2.479247      0.014520        True  \n",
       "10  112   12  88.178571  87.666667     0.694168      0.488897       False  \n",
       "11  112    1  88.178571  87.000000          NaN           NaN       False  \n",
       "12  410   43  89.060976  86.976744     4.865784      0.000002        True  \n",
       "13  410  112  89.060976  88.178571     3.114507      0.001944        True  \n",
       "14  410  410  89.060976  89.060976     0.000000      1.000000       False  \n",
       "15  410   13  89.060976  89.923077    -1.139498      0.255144       False  \n",
       "16  410   12  89.060976  87.666667     1.767807      0.077819        True  \n",
       "17  410    1  89.060976  87.000000          NaN           NaN       False  \n",
       "18   13   43  89.923077  86.976744     4.259563      0.000082        True  \n",
       "19   13  112  89.923077  88.178571     2.479247      0.014520        True  \n",
       "20   13  410  89.923077  89.060976     1.139498      0.255144       False  \n",
       "21   13   13  89.923077  89.923077     0.000000      1.000000       False  \n",
       "22   13   12  89.923077  87.666667     2.956635      0.007074        True  \n",
       "23   13    1  89.923077  87.000000          NaN           NaN       False  \n",
       "24   12   43  87.666667  86.976744     0.940380      0.351289       False  \n",
       "25   12  112  87.666667  88.178571    -0.694168      0.488897       False  \n",
       "26   12  410  87.666667  89.060976    -1.767807      0.077819        True  \n",
       "27   12   13  87.666667  89.923077    -2.956635      0.007074        True  \n",
       "28   12   12  87.666667  87.666667     0.000000      1.000000       False  \n",
       "29   12    1  87.666667  87.000000          NaN           NaN       False  \n",
       "30    1   43  87.000000  86.976744          NaN           NaN       False  \n",
       "31    1  112  87.000000  88.178571          NaN           NaN       False  \n",
       "32    1  410  87.000000  89.060976          NaN           NaN       False  \n",
       "33    1   13  87.000000  89.923077          NaN           NaN       False  \n",
       "34    1   12  87.000000  87.666667          NaN           NaN       False  \n",
       "35    1    1  87.000000  87.000000          NaN           NaN       False  "
      ]
     },
     "execution_count": 91,
     "metadata": {},
     "output_type": "execute_result"
    }
   ],
   "source": [
    "df_t_s"
   ]
  },
  {
   "cell_type": "code",
   "execution_count": 92,
   "metadata": {},
   "outputs": [
    {
     "data": {
      "text/html": [
       "<div>\n",
       "<style scoped>\n",
       "    .dataframe tbody tr th:only-of-type {\n",
       "        vertical-align: middle;\n",
       "    }\n",
       "\n",
       "    .dataframe tbody tr th {\n",
       "        vertical-align: top;\n",
       "    }\n",
       "\n",
       "    .dataframe thead th {\n",
       "        text-align: right;\n",
       "    }\n",
       "</style>\n",
       "<table border=\"1\" class=\"dataframe\">\n",
       "  <thead>\n",
       "    <tr style=\"text-align: right;\">\n",
       "      <th>style_2</th>\n",
       "      <th>Red</th>\n",
       "      <th>Rosé / Rosado</th>\n",
       "      <th>Rosé / Rosado Sparkling</th>\n",
       "      <th>Sherry</th>\n",
       "      <th>Sparkling</th>\n",
       "      <th>White</th>\n",
       "    </tr>\n",
       "    <tr>\n",
       "      <th>style_1</th>\n",
       "      <th></th>\n",
       "      <th></th>\n",
       "      <th></th>\n",
       "      <th></th>\n",
       "      <th></th>\n",
       "      <th></th>\n",
       "    </tr>\n",
       "  </thead>\n",
       "  <tbody>\n",
       "    <tr>\n",
       "      <th>Red</th>\n",
       "      <td>1.000000</td>\n",
       "      <td>0.000002</td>\n",
       "      <td>NaN</td>\n",
       "      <td>0.255144</td>\n",
       "      <td>0.077819</td>\n",
       "      <td>0.001944</td>\n",
       "    </tr>\n",
       "    <tr>\n",
       "      <th>Rosé / Rosado</th>\n",
       "      <td>0.000002</td>\n",
       "      <td>1.000000</td>\n",
       "      <td>NaN</td>\n",
       "      <td>0.000082</td>\n",
       "      <td>0.351289</td>\n",
       "      <td>0.006258</td>\n",
       "    </tr>\n",
       "    <tr>\n",
       "      <th>Rosé / Rosado Sparkling</th>\n",
       "      <td>NaN</td>\n",
       "      <td>NaN</td>\n",
       "      <td>NaN</td>\n",
       "      <td>NaN</td>\n",
       "      <td>NaN</td>\n",
       "      <td>NaN</td>\n",
       "    </tr>\n",
       "    <tr>\n",
       "      <th>Sherry</th>\n",
       "      <td>0.255144</td>\n",
       "      <td>0.000082</td>\n",
       "      <td>NaN</td>\n",
       "      <td>1.000000</td>\n",
       "      <td>0.007074</td>\n",
       "      <td>0.014520</td>\n",
       "    </tr>\n",
       "    <tr>\n",
       "      <th>Sparkling</th>\n",
       "      <td>0.077819</td>\n",
       "      <td>0.351289</td>\n",
       "      <td>NaN</td>\n",
       "      <td>0.007074</td>\n",
       "      <td>1.000000</td>\n",
       "      <td>0.488897</td>\n",
       "    </tr>\n",
       "    <tr>\n",
       "      <th>White</th>\n",
       "      <td>0.001944</td>\n",
       "      <td>0.006258</td>\n",
       "      <td>NaN</td>\n",
       "      <td>0.014520</td>\n",
       "      <td>0.488897</td>\n",
       "      <td>1.000000</td>\n",
       "    </tr>\n",
       "  </tbody>\n",
       "</table>\n",
       "</div>"
      ],
      "text/plain": [
       "style_2                        Red  Rosé / Rosado  Rosé / Rosado Sparkling   \\\n",
       "style_1                                                                       \n",
       "Red                       1.000000       0.000002                       NaN   \n",
       "Rosé / Rosado             0.000002       1.000000                       NaN   \n",
       "Rosé / Rosado Sparkling        NaN            NaN                       NaN   \n",
       "Sherry                    0.255144       0.000082                       NaN   \n",
       "Sparkling                 0.077819       0.351289                       NaN   \n",
       "White                     0.001944       0.006258                       NaN   \n",
       "\n",
       "style_2                     Sherry  Sparkling     White  \n",
       "style_1                                                  \n",
       "Red                       0.255144   0.077819  0.001944  \n",
       "Rosé / Rosado             0.000082   0.351289  0.006258  \n",
       "Rosé / Rosado Sparkling        NaN        NaN       NaN  \n",
       "Sherry                    1.000000   0.007074  0.014520  \n",
       "Sparkling                 0.007074   1.000000  0.488897  \n",
       "White                     0.014520   0.488897  1.000000  "
      ]
     },
     "execution_count": 92,
     "metadata": {},
     "output_type": "execute_result"
    }
   ],
   "source": [
    "# Pivot table: p-values by wine style\n",
    "\n",
    "df_t_s.pivot(index = 'style_1', columns = 'style_2', values = 'ttest_pvalue')"
   ]
  },
  {
   "cell_type": "code",
   "execution_count": 93,
   "metadata": {},
   "outputs": [
    {
     "data": {
      "text/html": [
       "<div>\n",
       "<style scoped>\n",
       "    .dataframe tbody tr th:only-of-type {\n",
       "        vertical-align: middle;\n",
       "    }\n",
       "\n",
       "    .dataframe tbody tr th {\n",
       "        vertical-align: top;\n",
       "    }\n",
       "\n",
       "    .dataframe thead th {\n",
       "        text-align: right;\n",
       "    }\n",
       "</style>\n",
       "<table border=\"1\" class=\"dataframe\">\n",
       "  <thead>\n",
       "    <tr style=\"text-align: right;\">\n",
       "      <th>style_2</th>\n",
       "      <th>Red</th>\n",
       "      <th>Rosé / Rosado</th>\n",
       "      <th>Rosé / Rosado Sparkling</th>\n",
       "      <th>Sherry</th>\n",
       "      <th>Sparkling</th>\n",
       "      <th>White</th>\n",
       "    </tr>\n",
       "    <tr>\n",
       "      <th>style_1</th>\n",
       "      <th></th>\n",
       "      <th></th>\n",
       "      <th></th>\n",
       "      <th></th>\n",
       "      <th></th>\n",
       "      <th></th>\n",
       "    </tr>\n",
       "  </thead>\n",
       "  <tbody>\n",
       "    <tr>\n",
       "      <th>Red</th>\n",
       "      <td>False</td>\n",
       "      <td>True</td>\n",
       "      <td>False</td>\n",
       "      <td>False</td>\n",
       "      <td>True</td>\n",
       "      <td>True</td>\n",
       "    </tr>\n",
       "    <tr>\n",
       "      <th>Rosé / Rosado</th>\n",
       "      <td>True</td>\n",
       "      <td>False</td>\n",
       "      <td>False</td>\n",
       "      <td>True</td>\n",
       "      <td>False</td>\n",
       "      <td>True</td>\n",
       "    </tr>\n",
       "    <tr>\n",
       "      <th>Rosé / Rosado Sparkling</th>\n",
       "      <td>False</td>\n",
       "      <td>False</td>\n",
       "      <td>False</td>\n",
       "      <td>False</td>\n",
       "      <td>False</td>\n",
       "      <td>False</td>\n",
       "    </tr>\n",
       "    <tr>\n",
       "      <th>Sherry</th>\n",
       "      <td>False</td>\n",
       "      <td>True</td>\n",
       "      <td>False</td>\n",
       "      <td>False</td>\n",
       "      <td>True</td>\n",
       "      <td>True</td>\n",
       "    </tr>\n",
       "    <tr>\n",
       "      <th>Sparkling</th>\n",
       "      <td>True</td>\n",
       "      <td>False</td>\n",
       "      <td>False</td>\n",
       "      <td>True</td>\n",
       "      <td>False</td>\n",
       "      <td>False</td>\n",
       "    </tr>\n",
       "    <tr>\n",
       "      <th>White</th>\n",
       "      <td>True</td>\n",
       "      <td>True</td>\n",
       "      <td>False</td>\n",
       "      <td>True</td>\n",
       "      <td>False</td>\n",
       "      <td>False</td>\n",
       "    </tr>\n",
       "  </tbody>\n",
       "</table>\n",
       "</div>"
      ],
      "text/plain": [
       "style_2                     Red Rosé / Rosado Rosé / Rosado Sparkling  Sherry  \\\n",
       "style_1                                                                         \n",
       "Red                       False          True                    False  False   \n",
       "Rosé / Rosado              True         False                    False   True   \n",
       "Rosé / Rosado Sparkling   False         False                    False  False   \n",
       "Sherry                    False          True                    False  False   \n",
       "Sparkling                  True         False                    False   True   \n",
       "White                      True          True                    False   True   \n",
       "\n",
       "style_2                  Sparkling  White  \n",
       "style_1                                    \n",
       "Red                           True   True  \n",
       "Rosé / Rosado                False   True  \n",
       "Rosé / Rosado Sparkling      False  False  \n",
       "Sherry                        True   True  \n",
       "Sparkling                    False  False  \n",
       "White                        False  False  "
      ]
     },
     "execution_count": 93,
     "metadata": {},
     "output_type": "execute_result"
    }
   ],
   "source": [
    "# Pivot table: reject_null by wine style\n",
    "\n",
    "df_t_s.pivot(index = 'style_1', columns = 'style_2', values = 'reject_null')"
   ]
  }
 ],
 "metadata": {
  "kernelspec": {
   "display_name": "Python 3",
   "language": "python",
   "name": "python3"
  },
  "language_info": {
   "codemirror_mode": {
    "name": "ipython",
    "version": 3
   },
   "file_extension": ".py",
   "mimetype": "text/x-python",
   "name": "python",
   "nbconvert_exporter": "python",
   "pygments_lexer": "ipython3",
   "version": "3.7.3"
  }
 },
 "nbformat": 4,
 "nbformat_minor": 2
}
